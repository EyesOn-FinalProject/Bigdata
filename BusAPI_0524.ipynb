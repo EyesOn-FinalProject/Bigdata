{
 "cells": [
  {
   "cell_type": "code",
   "execution_count": 2,
   "metadata": {},
   "outputs": [
    {
     "name": "stdout",
     "output_type": "stream",
     "text": [
      "['113900015', '100100047', '100100049', '100100087', '100100088', '100100089', '111000014', '100100586', '100100588', '100100286', '100100288', '100100330', '100100451', '100100447', '100100346', '111000010', '100100363', '100100552', '165000145', '165000146', '165000147', '165000148', '165000149', '165000150', '165000421', '165000154', '165000409', '165000381', '232000073', '232000061', '229000255', '218000116', '218000108', '219000015', '232000090', '232000071', '218000105', '232000105']\n"
     ]
    }
   ],
   "source": [
    "import requests\n",
    "import xmltodict\n",
    "from urllib.parse import urlparse\n",
    "\n",
    "key = 'kNSQvU5WeosgTXwCx1mTthdz93%2BlLXHKA7ZtzbuNArBuUVVP4akW5xsfp6R5JYuMH106DwcuJRTqXJHI4q%2BNjA%3D%3D'\n",
    "\n",
    "# 1. 사용자가 도착 정류장을 음성으로 말함(목적지)\n",
    "arrivalstation = '당산역'\n",
    "\n",
    "# 2. 사용자가 현재 위치한 정류장에 오는 모든 버스 번호를 알아냄\n",
    "# 요청변수: arsId(정류장고유번호) => 앞에서 이미 추출된 값, 여기선 임의 지정하겠음\n",
    "arsId = 14015 #홍대입구(합정행)\n",
    "\n",
    "url = f'http://ws.bus.go.kr/api/rest/stationinfo/getStationByUid?ServiceKey={key}&arsId={arsId}'\n",
    "content = requests.get(url).content\n",
    "dict = xmltodict.parse(content)\n",
    "\n",
    "blist = []\n",
    "for i in range(0, len(dict['ServiceResult']['msgBody']['itemList'])):\n",
    "    blist.append(dict['ServiceResult']['msgBody']['itemList'][i]['busRouteId'])\n",
    "print(blist) #특정 정류장에 오는 모든 버스"
   ]
  },
  {
   "cell_type": "code",
   "execution_count": 4,
   "metadata": {},
   "outputs": [
    {
     "name": "stdout",
     "output_type": "stream",
     "text": [
      "http://ws.bus.go.kr/api/rest/busRouteInfo/getStaionByRoute?ServiceKey=kNSQvU5WeosgTXwCx1mTthdz93%2BlLXHKA7ZtzbuNArBuUVVP4akW5xsfp6R5JYuMH106DwcuJRTqXJHI4q%2BNjA%3D%3D&busRouteId=113900015\n"
     ]
    },
    {
     "ename": "TypeError",
     "evalue": "'NoneType' object is not subscriptable",
     "output_type": "error",
     "traceback": [
      "\u001b[1;31m---------------------------------------------------------------------------\u001b[0m",
      "\u001b[1;31mTypeError\u001b[0m                                 Traceback (most recent call last)",
      "\u001b[1;32m<ipython-input-4-888929fbfd5e>\u001b[0m in \u001b[0;36m<module>\u001b[1;34m\u001b[0m\n\u001b[0;32m      9\u001b[0m     \u001b[0mdict\u001b[0m \u001b[1;33m=\u001b[0m \u001b[0mxmltodict\u001b[0m\u001b[1;33m.\u001b[0m\u001b[0mparse\u001b[0m\u001b[1;33m(\u001b[0m\u001b[0mcontent\u001b[0m\u001b[1;33m)\u001b[0m\u001b[1;33m\u001b[0m\u001b[1;33m\u001b[0m\u001b[0m\n\u001b[0;32m     10\u001b[0m \u001b[1;33m\u001b[0m\u001b[0m\n\u001b[1;32m---> 11\u001b[1;33m     \u001b[1;32mfor\u001b[0m \u001b[0mi\u001b[0m \u001b[1;32min\u001b[0m \u001b[0mrange\u001b[0m\u001b[1;33m(\u001b[0m\u001b[1;36m0\u001b[0m\u001b[1;33m,\u001b[0m \u001b[0mlen\u001b[0m\u001b[1;33m(\u001b[0m\u001b[0mdict\u001b[0m\u001b[1;33m[\u001b[0m\u001b[1;34m'ServiceResult'\u001b[0m\u001b[1;33m]\u001b[0m\u001b[1;33m[\u001b[0m\u001b[1;34m'msgBody'\u001b[0m\u001b[1;33m]\u001b[0m\u001b[1;33m[\u001b[0m\u001b[1;34m'itemList'\u001b[0m\u001b[1;33m]\u001b[0m\u001b[1;33m)\u001b[0m\u001b[1;33m)\u001b[0m\u001b[1;33m:\u001b[0m\u001b[1;33m\u001b[0m\u001b[1;33m\u001b[0m\u001b[0m\n\u001b[0m\u001b[0;32m     12\u001b[0m         \u001b[0mclist\u001b[0m\u001b[1;33m.\u001b[0m\u001b[0mappend\u001b[0m\u001b[1;33m(\u001b[0m\u001b[0mdict\u001b[0m\u001b[1;33m[\u001b[0m\u001b[1;34m'ServiceResult'\u001b[0m\u001b[1;33m]\u001b[0m\u001b[1;33m[\u001b[0m\u001b[1;34m'msgBody'\u001b[0m\u001b[1;33m]\u001b[0m\u001b[1;33m[\u001b[0m\u001b[1;34m'itemList'\u001b[0m\u001b[1;33m]\u001b[0m\u001b[1;33m[\u001b[0m\u001b[0mi\u001b[0m\u001b[1;33m]\u001b[0m\u001b[1;33m[\u001b[0m\u001b[1;34m'stationNm'\u001b[0m\u001b[1;33m]\u001b[0m\u001b[1;33m)\u001b[0m\u001b[1;33m\u001b[0m\u001b[1;33m\u001b[0m\u001b[0m\n\u001b[0;32m     13\u001b[0m         \u001b[0mprint\u001b[0m\u001b[1;33m(\u001b[0m\u001b[0mclist\u001b[0m\u001b[1;33m)\u001b[0m\u001b[1;33m\u001b[0m\u001b[1;33m\u001b[0m\u001b[0m\n",
      "\u001b[1;31mTypeError\u001b[0m: 'NoneType' object is not subscriptable"
     ]
    }
   ],
   "source": [
    "# 3. 각 버스 번호가 경유하는 노선명 목록을 조회\n",
    "# 버스 ID 삽입된 url 추출\n",
    "for i in range(0, len(blist)):\n",
    "    url = f'http://ws.bus.go.kr/api/rest/busRouteInfo/getStaionByRoute?ServiceKey={key}&busRouteId={blist[i]}'   \n",
    "    print(url)\n",
    "    \n",
    "    clist = []\n",
    "    content = requests.get(url).content\n",
    "    dict = xmltodict.parse(content)\n",
    "    \n",
    "    for i in range(0, len(dict['ServiceResult']['msgBody']['itemList'])):\n",
    "        clist.append(dict['ServiceResult']['msgBody']['itemList'][i]['stationNm'])\n",
    "        print(clist)\n",
    "        \n",
    "        # 4. 경유하는 노선에 arrivalstation(목적지)가 포함된 버스 ID 알아내기\n",
    "        dlist = []\n",
    "        if arrivalstation in clist :\n",
    "            dlist.append(dict['ServiceResult']['msgBody']['itemList'][i]['busRouteId'])\n",
    "            print(dlist)"
   ]
  },
  {
   "cell_type": "code",
   "execution_count": null,
   "metadata": {},
   "outputs": [],
   "source": [
    "# 5. 알아낸 버스 ID로 시간 비교"
   ]
  }
 ],
 "metadata": {
  "kernelspec": {
   "display_name": "Python 3",
   "language": "python",
   "name": "python3"
  },
  "language_info": {
   "codemirror_mode": {
    "name": "ipython",
    "version": 3
   },
   "file_extension": ".py",
   "mimetype": "text/x-python",
   "name": "python",
   "nbconvert_exporter": "python",
   "pygments_lexer": "ipython3",
   "version": "3.8.5"
  }
 },
 "nbformat": 4,
 "nbformat_minor": 4
}
