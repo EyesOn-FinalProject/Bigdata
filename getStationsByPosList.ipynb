{
 "cells": [
  {
   "cell_type": "code",
   "execution_count": 44,
   "metadata": {},
   "outputs": [],
   "source": [
    "# 라이브러리\n",
    "import requests, xmltodict, json\n",
    "import pandas as pd"
   ]
  },
  {
   "cell_type": "markdown",
   "metadata": {},
   "source": [
    "### 1) 서울특별시_정류소정보조회 서비스  \n",
    "* 7_getStaionsByPosList 활용\n",
    "* **input: tmX, tmY, radius => output: stId, stationName**\n",
    "* https://www.data.go.kr/tcs/dss/selectApiDataDetailView.do?publicDataPk=15000303"
   ]
  },
  {
   "cell_type": "code",
   "execution_count": 45,
   "metadata": {},
   "outputs": [
    {
     "name": "stdout",
     "output_type": "stream",
     "text": [
      "113000001\n",
      "마포역\n"
     ]
    }
   ],
   "source": [
    "# 사용자의 위치를 받아서 tmX, tmY 변수에 지정.\n",
    "tmX = 126.948105\n",
    "tmY = 37.540897\n",
    "radius = 200 # 범위 (넓히면 여러 정류장 인식 됨.)\n",
    "\n",
    "key = \"AT98N5LWRAir0I67tVgrf6Vfnio9LCMcwusSbOjmdkEpSOGyobdyAq9cb41G6O4pgTp6Jcmpv8e87bplMNY7tQ%3D%3D\"\n",
    "url = f'http://ws.bus.go.kr/api/rest/stationinfo/getStationByPos?ServiceKey={key}&tmX={tmX}&tmY={tmY}&radius={radius}'\n",
    " \n",
    "content = requests.get(url).content\n",
    "dict = xmltodict.parse(content)\n",
    "\n",
    "# 첫번째 정류장이라 설정 (음성으로 \"현재 인식된 정류장은 A 정류장 입니다.\" 라고 전해주기)\n",
    "jsonString = json.dumps(dict['ServiceResult']['msgBody']['itemList'][0]['stationNm'], ensure_ascii=False)\n",
    "jsonObj = json.loads(jsonString)\n",
    "# print(jsonObj)\n",
    "\n",
    "# 향후 사용: 정류소 고유 번호, 정류소명 추출\n",
    "stId = int(dict['ServiceResult']['msgBody']['itemList'][0]['stationId'])\n",
    "stationName = str(dict['ServiceResult']['msgBody']['itemList'][0]['stationNm'])\n",
    "print(stId)\n",
    "print(stationName)"
   ]
  },
  {
   "cell_type": "markdown",
   "metadata": {},
   "source": [
    "### 2) excel Data를 통해 원하는 데이터 추출\n",
    "* 2개의 excel: ~, ~"
   ]
  },
  {
   "cell_type": "code",
   "execution_count": 65,
   "metadata": {},
   "outputs": [
    {
     "data": {
      "text/plain": [
       "'02'"
      ]
     },
     "execution_count": 65,
     "metadata": {},
     "output_type": "execute_result"
    }
   ],
   "source": [
    "data1 = pd.read_csv('data/busnumber_to_busRouteid.csv', encoding='utf-8')\n",
    "data2 = pd.read_csv('data/stationName_to_ord.csv', encoding='utf-8')\n",
    "# display(data1.head())\n",
    "# display(data2.head())\n",
    "\n",
    "# 음성인식을 통해 260번 탄다고 가정했음.\n",
    "\n",
    "\n",
    "data1['busNumber'][1]"
   ]
  },
  {
   "cell_type": "markdown",
   "metadata": {},
   "source": [
    "### 3) 서울특별시_버스도착정보조회 서비스\n",
    "* 2_getArrInfoByRouteList\n",
    "* **input: stId, busRouteId, ord => output: arrmsg1, arrmsg2**\n",
    "* https://www.data.go.kr/iim/api/selectAPIAcountView.do"
   ]
  },
  {
   "cell_type": "code",
   "execution_count": null,
   "metadata": {},
   "outputs": [],
   "source": [
    "#서울특별시_버스도착정보조회 서비스 中 2_getArrInfoByRouteList\n",
    "key = 'kNSQvU5WeosgTXwCx1mTthdz93%2BlLXHKA7ZtzbuNArBuUVVP4akW5xsfp6R5JYuMH106DwcuJRTqXJHI4q%2BNjA%3D%3D'\n",
    "url = 'http://ws.bus.go.kr/api/rest/arrive/getArrInfoByRoute?ServiceKey={}&stId={}&busRouteId={}&ord={}'.format(key, jsonstaionId, jsonbusRouteId, jsonseq)\n",
    "\n",
    "content = requests.get(url).content\n",
    "dict = xmltodict.parse(content)\n",
    "\n",
    "busstation = json.dumps(dict['ServiceResult']['msgBody']['itemList']['stNm'], ensure_ascii = False)\n",
    "arrival = json.dumps(dict['ServiceResult']['msgBody']['itemList']['arrmsg1'], ensure_ascii = False)\n",
    "arrival2 = json.dumps(dict['ServiceResult']['msgBody']['itemList']['arrmsg2'], ensure_ascii = False)\n",
    "busplainnum = json.dumps(dict['ServiceResult']['msgBody']['itemList']['plainNo1'], ensure_ascii = False)\n",
    "\n",
    "jsonbusstation = json.loads(busstation)\n",
    "jsonarrival = json.loads(arrival)\n",
    "jsonsarrival2 = json.loads(arrival2)\n",
    "jsonsbusplainnum = json.loads(busplainnum)\n",
    "\n",
    "print('정류소명: ' + jsonbusstation)\n",
    "print('첫 번째 버스: ' + jsonarrival)\n",
    "print('두 번째 버스: ' + jsonsarrival2)\n",
    "print('도착 예정 버스 차량 번호: ' + jsonsbusplainnum)"
   ]
  },
  {
   "cell_type": "markdown",
   "metadata": {},
   "source": [
    "#결과값\n",
    "03689 #stationId\n",
    "100100124 #busRoutedId\n",
    "1 #seq"
   ]
  }
 ],
 "metadata": {
  "kernelspec": {
   "display_name": "pydatavenv",
   "language": "python",
   "name": "pydatavenv"
  },
  "language_info": {
   "codemirror_mode": {
    "name": "ipython",
    "version": 3
   },
   "file_extension": ".py",
   "mimetype": "text/x-python",
   "name": "python",
   "nbconvert_exporter": "python",
   "pygments_lexer": "ipython3",
   "version": "3.8.8"
  }
 },
 "nbformat": 4,
 "nbformat_minor": 4
}
