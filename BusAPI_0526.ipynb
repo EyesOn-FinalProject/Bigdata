{
 "cells": [
  {
   "cell_type": "code",
   "execution_count": 188,
   "metadata": {},
   "outputs": [],
   "source": [
    "# 라이브러리\n",
    "import requests, re\n",
    "import xmltodict\n",
    "from urllib.parse import urlparse"
   ]
  },
  {
   "cell_type": "code",
   "execution_count": 189,
   "metadata": {},
   "outputs": [
    {
     "name": "stdout",
     "output_type": "stream",
     "text": [
      "홍대입구역\n",
      "14015\n",
      "현재 인식된 정류장은 홍대입구역입니다.\n"
     ]
    }
   ],
   "source": [
    "key = 'kNSQvU5WeosgTXwCx1mTthdz93%2BlLXHKA7ZtzbuNArBuUVVP4akW5xsfp6R5JYuMH106DwcuJRTqXJHI4q%2BNjA%3D%3D'\n",
    "\n",
    "# 사용자가 위치한 정류장 인식\n",
    "def position(x, y, r):\n",
    "    url = f'http://ws.bus.go.kr/api/rest/stationinfo/getStationByPos?ServiceKey={key}&tmX={x}&tmY={y}&radius={r}' # 서울특별시_정류소정보조회 서비스 中 7_getStaionsByPosList\n",
    "    content = requests.get(url).content\n",
    "    dict = xmltodict.parse(content)\n",
    "\n",
    "    target_stationName = str(dict['ServiceResult']['msgBody']['itemList'][0]['stationNm'])\n",
    "    target_arsId = str(dict['ServiceResult']['msgBody']['itemList'][0]['arsId'])\n",
    "    msgStation = \"현재 인식된 정류장은 \" + target_stationName + \"입니다.\"\n",
    "\n",
    "    return target_stationName, target_arsId, msgStation\n",
    "\n",
    "#=========================\n",
    "target_stationName, target_arsId, msgStation = position(126.9233020726, 37.5563975089, 100)\n",
    "print(target_stationName)\n",
    "print(target_arsId)\n",
    "print(msgStation)"
   ]
  },
  {
   "cell_type": "code",
   "execution_count": 190,
   "metadata": {},
   "outputs": [
    {
     "name": "stdout",
     "output_type": "stream",
     "text": [
      "['113900015', '100100047', '100100049', '100100087', '100100088', '100100089', '111000014', '100100586', '100100588', '100100286', '100100288', '100100330', '100100451', '100100447', '100100346', '111000010', '100100363', '100100552', '165000145', '165000146', '165000147', '165000148', '165000149', '165000150', '165000421', '165000154', '165000409', '165000381', '232000073', '232000061', '229000255', '218000116', '218000108', '219000015', '232000090', '232000071', '218000105', '232000105']\n"
     ]
    }
   ],
   "source": [
    "def allBusnum(target_arsId):\n",
    "    busList = []\n",
    "    url = f'http://ws.bus.go.kr/api/rest/stationinfo/getStationByUid?ServiceKey={key}&arsId={target_arsId}'\n",
    "    content = requests.get(url).content\n",
    "    dict = xmltodict.parse(content)\n",
    "\n",
    "    for i in range(0, len(dict['ServiceResult']['msgBody']['itemList'])):\n",
    "        busList.append(dict['ServiceResult']['msgBody']['itemList'][i]['busRouteId'])\n",
    "\n",
    "    return busList # 특정 정류장에 오는 모든 버스\n",
    "\n",
    "#=========================\n",
    "busList = allBusnum(target_arsId)\n",
    "print(busList)"
   ]
  },
  {
   "cell_type": "code",
   "execution_count": 192,
   "metadata": {},
   "outputs": [],
   "source": [
    "arrivalStation = '당산역' # 임시"
   ]
  },
  {
   "cell_type": "code",
   "execution_count": 193,
   "metadata": {},
   "outputs": [
    {
     "name": "stdout",
     "output_type": "stream",
     "text": [
      "['100100088', '111000014', '100100586', '100100288']\n"
     ]
    }
   ],
   "source": [
    "def theBusnum(arrivalStation, busList):   \n",
    "    thebuslist = []\n",
    "    \n",
    "    for i in range(0, len(busList)):\n",
    "        url = f'http://ws.bus.go.kr/api/rest/busRouteInfo/getStaionByRoute?ServiceKey={key}&busRouteId={busList[i]}'\n",
    "        content = requests.get(url).content\n",
    "        dict = xmltodict.parse(content)\n",
    "        \n",
    "        buslinelist = []  # 특정 버스의 노선 목록   \n",
    "        for i in range(0, len(dict['ServiceResult']['msgBody']['itemList'])):\n",
    "            buslinelist.append(dict['ServiceResult']['msgBody']['itemList'][i]['stationNm'])\n",
    "         \n",
    "        if arrivalStation in buslinelist:\n",
    "            thebuslist.append(dict['ServiceResult']['msgBody']['itemList'][i]['busRouteId'])\n",
    "\n",
    "    return thebuslist # arrivalStation 경유하는 버스 ID\n",
    "#=========================\n",
    "thebuslist = theBusnum(arrivalStation, busList)\n",
    "print(thebuslist)"
   ]
  },
  {
   "cell_type": "code",
   "execution_count": 194,
   "metadata": {},
   "outputs": [
    {
     "name": "stdout",
     "output_type": "stream",
     "text": [
      "['603', '761', 'N26', '5714']\n",
      "['6분4초후[4번째 전]', '13분38초후[8번째 전]', '운행종료', '2분8초후[1번째 전]']\n"
     ]
    }
   ],
   "source": [
    "def waiting(target_arsId, thebuslist):\n",
    "    url = f'http://ws.bus.go.kr/api/rest/stationinfo/getStationByUid?ServiceKey={key}&arsId={target_arsId}'\n",
    "    content = requests.get(url).content\n",
    "    dict = xmltodict.parse(content)\n",
    "\n",
    "    waitingBusnum = []\n",
    "    waitingTime = []\n",
    "    for i in range(0, len(dict['ServiceResult']['msgBody']['itemList'])):\n",
    "        if dict['ServiceResult']['msgBody']['itemList'][i]['busRouteId'] in thebuslist:\n",
    "            x = dict['ServiceResult']['msgBody']['itemList'][i]['rtNm']\n",
    "            y = dict['ServiceResult']['msgBody']['itemList'][i]['arrmsg1']\n",
    "            waitingBusnum.append(x)\n",
    "            waitingTime.append(y)\n",
    "    return(waitingBusnum, waitingTime) # 버스 번호, 남은 시간\n",
    "\n",
    "#=========================\n",
    "waitingBusnum, waitingTime = waiting(target_arsId, thebuslist)\n",
    "print(waitingBusnum)\n",
    "print(waitingTime)"
   ]
  },
  {
   "cell_type": "code",
   "execution_count": 195,
   "metadata": {},
   "outputs": [
    {
     "name": "stdout",
     "output_type": "stream",
     "text": [
      "5714 2분8초후[1번째 전]\n"
     ]
    }
   ],
   "source": [
    "def waitdeep(waitingTime):\n",
    "    x = []\n",
    "    for i in waitingTime:\n",
    "        if i == '곧 도착':\n",
    "            i = 0\n",
    "            x.append(i)\n",
    "        elif i == '운행종료':\n",
    "            i = 9999\n",
    "            x.append(i)\n",
    "        else:\n",
    "            i = i.split('[')[0]\n",
    "            i = re.findall('\\d', i)\n",
    "            i = ''.join(i)\n",
    "            x.append(int(i))      \n",
    "    return(waitingBusnum, waitingTime, x)\n",
    "\n",
    "#=========================\n",
    "waitingBusnum, waitingTime, x = waitdeep(waitingTime)\n",
    "#print(waitingBusnum)\n",
    "#print(waitingTime)\n",
    "#print(x)\n",
    "#print(x.index(min(x))\n",
    "\n",
    "#최종 값\n",
    "print(waitingBusnum[(x.index(min(x)))], waitingTime[(x.index(min(x)))])"
   ]
  },
  {
   "cell_type": "code",
   "execution_count": null,
   "metadata": {},
   "outputs": [],
   "source": []
  }
 ],
 "metadata": {
  "kernelspec": {
   "display_name": "Python 3",
   "language": "python",
   "name": "python3"
  },
  "language_info": {
   "codemirror_mode": {
    "name": "ipython",
    "version": 3
   },
   "file_extension": ".py",
   "mimetype": "text/x-python",
   "name": "python",
   "nbconvert_exporter": "python",
   "pygments_lexer": "ipython3",
   "version": "3.8.5"
  }
 },
 "nbformat": 4,
 "nbformat_minor": 4
}
