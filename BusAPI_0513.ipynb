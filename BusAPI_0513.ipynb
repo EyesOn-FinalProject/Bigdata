{
 "cells": [
  {
   "cell_type": "code",
   "execution_count": 2,
   "metadata": {},
   "outputs": [],
   "source": [
    "# 라이브러리\n",
    "import requests, xmltodict, json\n",
    "import pandas as pd"
   ]
  },
  {
   "cell_type": "markdown",
   "metadata": {},
   "source": [
    "### 1) 서울특별시_정류소정보조회 서비스  \n",
    "* 7_getStaionsByPosList 활용\n",
    "* **input: tmX, tmY, radius => output: stId, stationName, arsId**\n",
    "* https://www.data.go.kr/tcs/dss/selectApiDataDetailView.do?publicDataPk=15000303"
   ]
  },
  {
   "cell_type": "code",
   "execution_count": 3,
   "metadata": {},
   "outputs": [
    {
     "name": "stdout",
     "output_type": "stream",
     "text": [
      "113000422\n",
      "홍대입구역\n",
      "14015\n"
     ]
    }
   ],
   "source": [
    "# 사용자의 위치를 받아서 tmX, tmY 변수에 지정.\n",
    "tmX = 126.9233021\n",
    "tmY = 37.55639751\n",
    "radius = 100 # 범위 (넓히면 여러 정류장 인식 됨.)\n",
    "\n",
    "key = \"AT98N5LWRAir0I67tVgrf6Vfnio9LCMcwusSbOjmdkEpSOGyobdyAq9cb41G6O4pgTp6Jcmpv8e87bplMNY7tQ%3D%3D\"\n",
    "url = f'http://ws.bus.go.kr/api/rest/stationinfo/getStationByPos?ServiceKey={key}&tmX={tmX}&tmY={tmY}&radius={radius}'\n",
    " \n",
    "content = requests.get(url).content\n",
    "dict = xmltodict.parse(content)\n",
    "\n",
    "# 첫번째 정류장이라 설정 (음성으로 \"현재 인식된 정류장은 A 정류장 입니다.\" 라고 전해주기)\n",
    "jsonString = json.dumps(dict['ServiceResult']['msgBody']['itemList'][0]['stationNm'], ensure_ascii=False)\n",
    "jsonObj = json.loads(jsonString)\n",
    "# print(jsonObj)\n",
    "\n",
    "# 향후 사용: 정류소 고유 번호, 정류소명 추출\n",
    "target_stId = int(dict['ServiceResult']['msgBody']['itemList'][0]['stationId'])\n",
    "target_stationName = str(dict['ServiceResult']['msgBody']['itemList'][0]['stationNm'])\n",
    "target_arsId = str(dict['ServiceResult']['msgBody']['itemList'][0]['arsId'])\n",
    "print(target_stId) # int\n",
    "print(target_stationName)\n",
    "print(target_arsId) # str"
   ]
  },
  {
   "cell_type": "markdown",
   "metadata": {},
   "source": [
    "### 2) Excel Data를 통해 원하는 데이터 추출\n",
    "* Excel Data: 1.busnumber_to_busRouteid , 2.stationName_to_ord \n",
    "* 다음 API 이용하는데 필요한 busRouteId, ord 추출하기 위함.\n",
    "* 문제: 정류소 ord가 2020.9.2 기준이므로 이후 변경된 노선은 결과값 출력이 안됨"
   ]
  },
  {
   "cell_type": "code",
   "execution_count": 16,
   "metadata": {},
   "outputs": [
    {
     "name": "stdout",
     "output_type": "stream",
     "text": [
      "100100288\n",
      "42\n"
     ]
    }
   ],
   "source": [
    "data1 = pd.read_csv('data/busnumber_to_busRouteid.csv', encoding='utf-8')\n",
    "#data2 = pd.read_csv('data/stationName_to_ord.csv', encoding='utf-8')\n",
    "\n",
    "# 음성인식을 통해 사용자가 5714번 탄다고 가정했음.\n",
    "target_bus = '5714' # str 형태로 해야됨. -> 엑셀이 str 형태\n",
    "target_busRouteId = data1[data1['busNumber'] == target_bus].iloc[0]['busRouteId']\n",
    "print(target_busRouteId) # int\n",
    "\n",
    "# ord 뽑기 = 엑셀 이용 방법\n",
    "#target_ord = data2[(data2['stationName'] == target_stationName) & (data2['busNumber'] == target_bus) & (data2['stationNumber'] == int(target_arsId))].iloc[0]['ord']\n",
    "#print(target_ord) # int\n",
    "\n",
    "# ord 뽑기 = API 활용 방법\n",
    "key = 'kNSQvU5WeosgTXwCx1mTthdz93%2BlLXHKA7ZtzbuNArBuUVVP4akW5xsfp6R5JYuMH106DwcuJRTqXJHI4q%2BNjA%3D%3D'\n",
    "url = 'http://ws.bus.go.kr/api/rest/busRouteInfo/getStaionByRoute?ServiceKey={}&busRouteId={}'.format(key, target_busRouteId)\n",
    "\n",
    "content = requests.get(url).content\n",
    "dict = xmltodict.parse(content)\n",
    "\n",
    "# target_arsId = arsId 넘버가 일치하는 버스의 seq(=ord) 구하기\n",
    "alist = []\n",
    "for i in range(0, len(dict['ServiceResult']['msgBody']['itemList'])):\n",
    "    alist.append(dict['ServiceResult']['msgBody']['itemList'][i]['arsId'])   \n",
    "\n",
    "# 인덱스 값이 곧 seq 값\n",
    "target_ord = alist.index(target_arsId) + 1\n",
    "print(target_ord)"
   ]
  },
  {
   "cell_type": "markdown",
   "metadata": {},
   "source": [
    "### 3) 서울특별시_버스도착정보조회 서비스\n",
    "* 2_getArrInfoByRouteList\n",
    "* **input: stId, busRouteId, ord => output: arrmsg1, arrmsg2** + 이 외 필요한 것들 추가\n",
    "* https://www.data.go.kr/iim/api/selectAPIAcountView.do"
   ]
  },
  {
   "cell_type": "code",
   "execution_count": 17,
   "metadata": {},
   "outputs": [
    {
     "name": "stdout",
     "output_type": "stream",
     "text": [
      "정류소명: 홍대입구역\n",
      "첫 번째 버스: 2분후[2번째 전]\n",
      "두 번째 버스: 9분56초후[5번째 전]\n",
      "도착 예정 버스 차량 번호: 서울74사2919\n",
      "다음 정류장: 서교동\n"
     ]
    }
   ],
   "source": [
    "#서울특별시_버스도착정보조회 서비스 中 2_getArrInfoByRouteList\n",
    "key = 'kNSQvU5WeosgTXwCx1mTthdz93%2BlLXHKA7ZtzbuNArBuUVVP4akW5xsfp6R5JYuMH106DwcuJRTqXJHI4q%2BNjA%3D%3D'\n",
    "url = 'http://ws.bus.go.kr/api/rest/arrive/getArrInfoByRoute?ServiceKey={}&stId={}&busRouteId={}&ord={}'.format(key, target_stId, target_busRouteId, target_ord)\n",
    "\n",
    "content = requests.get(url).content\n",
    "dict = xmltodict.parse(content)\n",
    "\n",
    "busstation = json.dumps(dict['ServiceResult']['msgBody']['itemList']['stNm'], ensure_ascii = False)\n",
    "arrival = json.dumps(dict['ServiceResult']['msgBody']['itemList']['arrmsg1'], ensure_ascii = False)\n",
    "arrival2 = json.dumps(dict['ServiceResult']['msgBody']['itemList']['arrmsg2'], ensure_ascii = False)\n",
    "busplainnum = json.dumps(dict['ServiceResult']['msgBody']['itemList']['plainNo1'], ensure_ascii = False)\n",
    "nextstation = json.dumps(dict['ServiceResult']['msgBody']['itemList']['stationNm1'], ensure_ascii = False)\n",
    "\n",
    "jsonbusstation = json.loads(busstation)\n",
    "jsonarrival = json.loads(arrival)\n",
    "jsonarrival2 = json.loads(arrival2)\n",
    "jsonbusplainnum = json.loads(busplainnum)\n",
    "jsonnextstation = json.loads(nextstation)\n",
    "\n",
    "print('정류소명: ' + jsonbusstation)\n",
    "print('첫 번째 버스: ' + jsonarrival)\n",
    "print('두 번째 버스: ' + jsonarrival2)\n",
    "print('도착 예정 버스 차량 번호: ' + jsonbusplainnum)\n",
    "print('다음 정류장: ' + jsonnextstation)"
   ]
  },
  {
   "cell_type": "code",
   "execution_count": null,
   "metadata": {},
   "outputs": [],
   "source": []
  }
 ],
 "metadata": {
  "kernelspec": {
   "display_name": "Python 3",
   "language": "python",
   "name": "python3"
  },
  "language_info": {
   "codemirror_mode": {
    "name": "ipython",
    "version": 3
   },
   "file_extension": ".py",
   "mimetype": "text/x-python",
   "name": "python",
   "nbconvert_exporter": "python",
   "pygments_lexer": "ipython3",
   "version": "3.8.5"
  }
 },
 "nbformat": 4,
 "nbformat_minor": 4
}
